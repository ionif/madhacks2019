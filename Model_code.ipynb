{
 "cells": [
  {
   "cell_type": "code",
   "execution_count": 39,
   "metadata": {},
   "outputs": [],
   "source": [
    "import pandas as pd\n",
    "import numpy as np \n",
    "import itertools\n",
    "import keras\n",
    "from sklearn import metrics\n",
    "from sklearn.metrics import confusion_matrix\n",
    "from keras.preprocessing.image import ImageDataGenerator, img_to_array, load_img \n",
    "from keras.models import Sequential \n",
    "from keras import optimizers\n",
    "from keras.preprocessing import image\n",
    "from keras.layers import Dropout, Flatten, Dense \n",
    "from keras import applications \n",
    "from keras.utils.np_utils import to_categorical \n",
    "import matplotlib.pyplot as plt \n",
    "import matplotlib.image as mpimg\n",
    "%matplotlib inline\n",
    "import math \n",
    "import datetime\n",
    "import time"
   ]
  },
  {
   "cell_type": "code",
   "execution_count": 40,
   "metadata": {},
   "outputs": [],
   "source": [
    "import split_folders\n",
    "\n",
    "#split_folders.ratio('Image_data', output=\"output\", seed=1337, ratio=(.8, .1, .1))"
   ]
  },
  {
   "cell_type": "code",
   "execution_count": 41,
   "metadata": {},
   "outputs": [],
   "source": [
    "#Default dimensions we found online\n",
    "img_width, img_height = 224, 224 \n",
    " \n",
    "#Create a bottleneck file\n",
    "top_model_weights_path = 'bottleneck_fc_model.h5'\n",
    " \n",
    "# loading up our datasets\n",
    "train_data_dir = 'output/train' \n",
    "validation_data_dir = 'output/val' \n",
    "test_data_dir = 'output/test'\n",
    "\n",
    "# number of epochs to train top model \n",
    "epochs = 7 #this has been changed after multiple model run \n",
    "# batch size used by flow_from_directory and predict_generator \n",
    "batch_size = 50 "
   ]
  },
  {
   "cell_type": "code",
   "execution_count": 42,
   "metadata": {},
   "outputs": [],
   "source": [
    "#Loading vgc16 model\n",
    "vgg16 = applications.VGG16(include_top=False, weights='imagenet', input_shape=(img_width, img_height, 3))\n",
    "\n",
    "datagen = ImageDataGenerator(rescale=1. / 255) \n",
    "#needed to create the bottleneck .npy files"
   ]
  },
  {
   "cell_type": "code",
   "execution_count": 43,
   "metadata": {},
   "outputs": [
    {
     "name": "stdout",
     "output_type": "stream",
     "text": [
      "Found 1074 images belonging to 5 classes.\n",
      "Time:  0:04:07.154608\n"
     ]
    }
   ],
   "source": [
    "#__this can take an hour and half to run so only run it once. \n",
    "#once the npy files have been created, no need to run again. Convert this cell to a code cell to run.__\n",
    "start = datetime.datetime.now()\n",
    " \n",
    "generator = datagen.flow_from_directory( \n",
    "    train_data_dir, \n",
    "    target_size=(img_width, img_height), \n",
    "    batch_size=batch_size, \n",
    "    class_mode=None, \n",
    "    shuffle=False) \n",
    " \n",
    "nb_train_samples = len(generator.filenames) \n",
    "num_classes = len(generator.class_indices) \n",
    " \n",
    "predict_size_train = int(math.ceil(nb_train_samples / batch_size)) \n",
    " \n",
    "bottleneck_features_train = vgg16.predict_generator(generator, predict_size_train) \n",
    " \n",
    "np.save('bottleneck_features_train.npy', bottleneck_features_train)\n",
    "end= datetime.datetime.now()\n",
    "elapsed= end-start\n",
    "print ('Time: ', elapsed)"
   ]
  },
  {
   "cell_type": "code",
   "execution_count": 44,
   "metadata": {},
   "outputs": [
    {
     "name": "stdout",
     "output_type": "stream",
     "text": [
      "Found 159 images belonging to 5 classes.\n",
      "Time:  0:00:38.804719\n"
     ]
    }
   ],
   "source": [
    "#__this can take an hour and half to run so only run it once. \n",
    "#once the npy files have been created, no need to run again. Convert this cell to a code cell to run.__\n",
    "start = datetime.datetime.now()\n",
    " \n",
    "generator = datagen.flow_from_directory( \n",
    "    validation_data_dir, \n",
    "    target_size=(img_width, img_height), \n",
    "    batch_size=batch_size, \n",
    "    class_mode=None, \n",
    "    shuffle=False) \n",
    " \n",
    "nb_validation_samples = len(generator.filenames) \n",
    "num_classes = len(generator.class_indices) \n",
    " \n",
    "predict_size_validation = int(math.ceil(nb_validation_samples / batch_size)) \n",
    " \n",
    "bottleneck_features_validation = vgg16.predict_generator(generator, predict_size_validation) \n",
    " \n",
    "np.save('bottleneck_features_validation.npy', bottleneck_features_validation)\n",
    "end= datetime.datetime.now()\n",
    "elapsed= end-start\n",
    "print ('Time: ', elapsed)"
   ]
  },
  {
   "cell_type": "code",
   "execution_count": 45,
   "metadata": {},
   "outputs": [
    {
     "name": "stdout",
     "output_type": "stream",
     "text": [
      "Found 172 images belonging to 5 classes.\n",
      "Time:  0:00:42.341690\n"
     ]
    }
   ],
   "source": [
    "#__this can take an hour and half to run so only run it once. \n",
    "#once the npy files have been created, no need to run again. Convert this cell to a code cell to run.__\n",
    "start = datetime.datetime.now()\n",
    " \n",
    "generator = datagen.flow_from_directory( \n",
    "    test_data_dir, \n",
    "    target_size=(img_width, img_height), \n",
    "    batch_size=batch_size, \n",
    "    class_mode=None, \n",
    "    shuffle=False) \n",
    " \n",
    "nb_test_samples = len(generator.filenames) \n",
    "num_classes = len(generator.class_indices) \n",
    " \n",
    "predict_size_test = int(math.ceil(nb_test_samples / batch_size)) \n",
    " \n",
    "bottleneck_features_test = vgg16.predict_generator(generator, predict_size_test) \n",
    " \n",
    "np.save('bottleneck_features_test.npy', bottleneck_features_test)\n",
    "end= datetime.datetime.now()\n",
    "elapsed= end-start\n",
    "print ('Time: ', elapsed)"
   ]
  },
  {
   "cell_type": "code",
   "execution_count": 46,
   "metadata": {},
   "outputs": [
    {
     "name": "stdout",
     "output_type": "stream",
     "text": [
      "Found 1074 images belonging to 5 classes.\n"
     ]
    }
   ],
   "source": [
    "#training data\n",
    "generator_top = datagen.flow_from_directory( \n",
    "   train_data_dir, \n",
    "   target_size=(img_width, img_height), \n",
    "   batch_size=batch_size, \n",
    "   class_mode='categorical', \n",
    "   shuffle=False) \n",
    " \n",
    "nb_train_samples = len(generator_top.filenames) \n",
    "num_classes = len(generator_top.class_indices) \n",
    " \n",
    "# load the bottleneck features saved earlier \n",
    "train_data = np.load('bottleneck_features_train.npy') \n",
    " \n",
    "# get the class labels for the training data, in the original order \n",
    "train_labels = generator_top.classes \n",
    " \n",
    "# convert the training labels to categorical vectors \n",
    "train_labels = to_categorical(train_labels, num_classes=num_classes)"
   ]
  },
  {
   "cell_type": "code",
   "execution_count": 47,
   "metadata": {},
   "outputs": [
    {
     "name": "stdout",
     "output_type": "stream",
     "text": [
      "Found 159 images belonging to 5 classes.\n"
     ]
    }
   ],
   "source": [
    "generator_top = datagen.flow_from_directory(  \n",
    "         validation_data_dir,  \n",
    "         target_size=(img_width, img_height),  \n",
    "         batch_size=batch_size,  \n",
    "         class_mode=None,  \n",
    "         shuffle=False)  \n",
    "   \n",
    "nb_validation_samples = len(generator_top.filenames)  \n",
    "   \n",
    "validation_data = np.load('bottleneck_features_validation.npy', allow_pickle=True)  \n",
    "   \n",
    "\n",
    "validation_labels = generator_top.classes  \n",
    "validation_labels = to_categorical(validation_labels, num_classes=num_classes)"
   ]
  },
  {
   "cell_type": "code",
   "execution_count": 48,
   "metadata": {
    "scrolled": true
   },
   "outputs": [
    {
     "name": "stdout",
     "output_type": "stream",
     "text": [
      "Found 172 images belonging to 5 classes.\n"
     ]
    }
   ],
   "source": [
    "generator_top = datagen.flow_from_directory(  \n",
    "         test_data_dir,  \n",
    "         target_size=(img_width, img_height),  \n",
    "         batch_size=batch_size,  \n",
    "         class_mode=None,  \n",
    "         shuffle=False)  \n",
    "   \n",
    "nb_test_samples = len(generator_top.filenames)  \n",
    "   \n",
    "test_data = np.load('bottleneck_features_test.npy')  \n",
    "   \n",
    "\n",
    "test_labels = generator_top.classes  \n",
    "test_labels = to_categorical(test_labels, num_classes=num_classes)"
   ]
  },
  {
   "cell_type": "code",
   "execution_count": 49,
   "metadata": {},
   "outputs": [
    {
     "name": "stdout",
     "output_type": "stream",
     "text": [
      "Train on 1074 samples, validate on 159 samples\n",
      "Epoch 1/5\n",
      "1074/1074 [==============================] - 2s 2ms/step - loss: 6.4076 - acc: 0.3892 - val_loss: 1.0559 - val_acc: 0.7358\n",
      "Epoch 2/5\n",
      "1074/1074 [==============================] - 1s 1ms/step - loss: 1.0270 - acc: 0.6955 - val_loss: 0.6600 - val_acc: 0.7862\n",
      "Epoch 3/5\n",
      "1074/1074 [==============================] - 1s 972us/step - loss: 0.5927 - acc: 0.7896 - val_loss: 0.8683 - val_acc: 0.7610\n",
      "Epoch 4/5\n",
      "1074/1074 [==============================] - 1s 980us/step - loss: 0.6195 - acc: 0.7961 - val_loss: 0.4149 - val_acc: 0.8742\n",
      "Epoch 5/5\n",
      "1074/1074 [==============================] - 1s 972us/step - loss: 0.5211 - acc: 0.8324 - val_loss: 0.3285 - val_acc: 0.8868\n",
      "159/159 [==============================] - 0s 282us/step\n",
      "[INFO] accuracy: 88.68%\n",
      "[INFO] Loss: 0.32851420848999385\n",
      "Time:  0:00:06.759987\n"
     ]
    }
   ],
   "source": [
    "start = datetime.datetime.now()\n",
    "model = Sequential()  \n",
    "model.add(Flatten(input_shape=train_data.shape[1:]))  \n",
    "model.add(Dense(256, activation='relu'))  \n",
    "model.add(Dropout(0.5))  \n",
    "model.add(Dense(num_classes, activation='softmax'))  \n",
    "\n",
    "model.compile(optimizer='rmsprop',  \n",
    "          loss='categorical_crossentropy', metrics=['accuracy'])  \n",
    "\n",
    "history = model.fit(train_data, train_labels,  \n",
    "      epochs=5,  \n",
    "      batch_size=batch_size,  \n",
    "      validation_data=[validation_data,validation_labels])  \n",
    "\n",
    "model.save_weights(top_model_weights_path)  \n",
    "\n",
    "(eval_loss, eval_accuracy) = model.evaluate(  \n",
    " validation_data, validation_labels, batch_size=batch_size, verbose=1)\n",
    "\n",
    "print(\"[INFO] accuracy: {:.2f}%\".format(eval_accuracy * 100))  \n",
    "print(\"[INFO] Loss: {}\".format(eval_loss))  \n",
    "end= datetime.datetime.now()\n",
    "elapsed= end-start\n",
    "print ('Time: ', elapsed)"
   ]
  },
  {
   "cell_type": "code",
   "execution_count": 50,
   "metadata": {},
   "outputs": [
    {
     "name": "stdout",
     "output_type": "stream",
     "text": [
      "Train on 1074 samples, validate on 159 samples\n",
      "Epoch 1/7\n",
      "1074/1074 [==============================] - 1s 913us/step - loss: 1.4543 - acc: 0.3799 - val_loss: 1.0440 - val_acc: 0.7547\n",
      "Epoch 2/7\n",
      "1074/1074 [==============================] - 0s 437us/step - loss: 1.1122 - acc: 0.5568 - val_loss: 0.8532 - val_acc: 0.7233\n",
      "Epoch 3/7\n",
      "1074/1074 [==============================] - 0s 426us/step - loss: 0.9545 - acc: 0.6453 - val_loss: 0.6846 - val_acc: 0.8491\n",
      "Epoch 4/7\n",
      "1074/1074 [==============================] - 0s 427us/step - loss: 0.8683 - acc: 0.6909 - val_loss: 0.6609 - val_acc: 0.7484\n",
      "Epoch 5/7\n",
      "1074/1074 [==============================] - 0s 433us/step - loss: 0.7541 - acc: 0.7365 - val_loss: 0.5020 - val_acc: 0.8491\n",
      "Epoch 6/7\n",
      "1074/1074 [==============================] - 0s 422us/step - loss: 0.7180 - acc: 0.7495 - val_loss: 0.4902 - val_acc: 0.8616\n",
      "Epoch 7/7\n",
      "1074/1074 [==============================] - 0s 451us/step - loss: 0.6178 - acc: 0.7980 - val_loss: 0.4128 - val_acc: 0.8994\n",
      "159/159 [==============================] - 0s 148us/step\n",
      "[INFO] accuracy: 89.94%\n",
      "[INFO] Loss: 0.41280183477221793\n",
      "Time:  0:00:04.501420\n"
     ]
    }
   ],
   "source": [
    "start = datetime.datetime.now()\n",
    "model = Sequential()  \n",
    "model.add(Flatten(input_shape=train_data.shape[1:]))  \n",
    "model.add(Dense(100, activation='relu'))  \n",
    "model.add(Dropout(0.5))  \n",
    "model.add(Dense(50, activation='relu'))  \n",
    "model.add(Dropout(0.3)) \n",
    "model.add(Dense(num_classes, activation='softmax'))  \n",
    "\n",
    "model.compile(loss='categorical_crossentropy',\n",
    "              optimizer=optimizers.RMSprop(lr=1e-4),\n",
    "              metrics=['acc'])  \n",
    "\n",
    "history = model.fit(train_data, train_labels,  \n",
    "      epochs=7,\n",
    "      batch_size=batch_size,  \n",
    "      validation_data=(validation_data, validation_labels))  \n",
    "\n",
    "model.save_weights(top_model_weights_path)  \n",
    "\n",
    "(eval_loss, eval_accuracy) = model.evaluate(  \n",
    " validation_data, validation_labels, batch_size=batch_size, verbose=1)\n",
    "\n",
    "print(\"[INFO] accuracy: {:.2f}%\".format(eval_accuracy * 100))  \n",
    "print(\"[INFO] Loss: {}\".format(eval_loss))  \n",
    "end= datetime.datetime.now()\n",
    "elapsed= end-start\n",
    "print ('Time: ', elapsed)"
   ]
  },
  {
   "cell_type": "code",
   "execution_count": 51,
   "metadata": {},
   "outputs": [
    {
     "name": "stderr",
     "output_type": "stream",
     "text": [
      "/Users/jas10022/anaconda3/lib/python3.6/site-packages/keras/activations.py:211: UserWarning: Do not pass a layer instance (such as LeakyReLU) as the activation argument of another layer. Instead, advanced activation layers should be used just like any other layer in a model.\n",
      "  identifier=identifier.__class__.__name__))\n"
     ]
    },
    {
     "name": "stdout",
     "output_type": "stream",
     "text": [
      "Train on 1074 samples, validate on 159 samples\n",
      "Epoch 1/7\n",
      "1074/1074 [==============================] - 1s 931us/step - loss: 1.3310 - acc: 0.4739 - val_loss: 0.7795 - val_acc: 0.7484\n",
      "Epoch 2/7\n",
      "1074/1074 [==============================] - 0s 428us/step - loss: 0.7893 - acc: 0.7123 - val_loss: 0.5927 - val_acc: 0.8239\n",
      "Epoch 3/7\n",
      "1074/1074 [==============================] - 0s 426us/step - loss: 0.6663 - acc: 0.7588 - val_loss: 0.5167 - val_acc: 0.8365\n",
      "Epoch 4/7\n",
      "1074/1074 [==============================] - 0s 433us/step - loss: 0.5224 - acc: 0.8231 - val_loss: 0.5275 - val_acc: 0.7987\n",
      "Epoch 5/7\n",
      "1074/1074 [==============================] - ETA: 0s - loss: 0.4935 - acc: 0.837 - 0s 428us/step - loss: 0.4915 - acc: 0.8380 - val_loss: 0.3577 - val_acc: 0.9119\n",
      "Epoch 6/7\n",
      "1074/1074 [==============================] - 0s 444us/step - loss: 0.4041 - acc: 0.8724 - val_loss: 0.3395 - val_acc: 0.8994\n",
      "Epoch 7/7\n",
      "1074/1074 [==============================] - 0s 430us/step - loss: 0.3400 - acc: 0.8901 - val_loss: 0.2830 - val_acc: 0.9182\n",
      "159/159 [==============================] - 0s 126us/step\n",
      "[INFO] accuracy: 91.82%\n",
      "[INFO] Loss: 0.2829559514732481\n",
      "Time:  0:00:04.333763\n"
     ]
    }
   ],
   "source": [
    "import keras\n",
    "from keras import optimizers\n",
    "start = datetime.datetime.now()\n",
    "model = Sequential()  \n",
    "model.add(Flatten(input_shape=train_data.shape[1:]))  \n",
    "model.add(Dense(100, activation=keras.layers.LeakyReLU(alpha=0.3)))  \n",
    "model.add(Dropout(0.5))  \n",
    "model.add(Dense(50, activation=keras.layers.LeakyReLU(alpha=0.3)))  \n",
    "model.add(Dropout(0.3)) \n",
    "model.add(Dense(num_classes, activation='softmax'))  \n",
    "\n",
    "model.compile(loss='categorical_crossentropy',\n",
    "              optimizer=optimizers.RMSprop(lr=1e-4),\n",
    "              metrics=['acc'])  \n",
    "\n",
    "history = model.fit(train_data, train_labels,  \n",
    "      epochs=7,\n",
    "      batch_size=batch_size,  \n",
    "      validation_data=(validation_data, validation_labels))  \n",
    "\n",
    "model.save_weights(top_model_weights_path)  \n",
    "\n",
    "(eval_loss, eval_accuracy) = model.evaluate(  \n",
    " validation_data, validation_labels, batch_size=batch_size, verbose=1)\n",
    "\n",
    "print(\"[INFO] accuracy: {:.2f}%\".format(eval_accuracy * 100))  \n",
    "print(\"[INFO] Loss: {}\".format(eval_loss))  \n",
    "end= datetime.datetime.now()\n",
    "elapsed= end-start\n",
    "print ('Time: ', elapsed)"
   ]
  },
  {
   "cell_type": "code",
   "execution_count": 52,
   "metadata": {},
   "outputs": [
    {
     "data": {
      "image/png": "[encoded data removed]",
      "text/plain": [
       "<Figure size 432x288 with 1 Axes>"
      ]
     },
     "metadata": {
      "needs_background": "light"
     },
     "output_type": "display_data"
    },
    {
     "data": {
      "image/png": "[encoded data removed]",
      "text/plain": [
       "<Figure size 432x288 with 1 Axes>"
      ]
     },
     "metadata": {
      "needs_background": "light"
     },
     "output_type": "display_data"
    }
   ],
   "source": [
    "import matplotlib.pyplot as plt\n",
    "%matplotlib inline \n",
    "\n",
    "acc = history.history['acc']\n",
    "val_acc = history.history['val_acc']\n",
    "loss = history.history['loss']\n",
    "val_loss = history.history['val_loss']\n",
    "epochs = range(len(acc))\n",
    "plt.plot(epochs, acc, 'r', label='Training acc')\n",
    "plt.plot(epochs, val_acc, 'b', label='Validation acc')\n",
    "plt.title('Training and validation accuracy')\n",
    "plt.ylabel('accuracy')  \n",
    "plt.xlabel('epoch')\n",
    "plt.legend()\n",
    "plt.figure()\n",
    "plt.plot(epochs, loss, 'r', label='Training loss')\n",
    "plt.plot(epochs, val_loss, 'b', label='Validation loss')\n",
    "plt.title('Training and validation loss')\n",
    "plt.ylabel('loss')  \n",
    "plt.xlabel('epoch')\n",
    "plt.legend()\n",
    "plt.show()"
   ]
  },
  {
   "cell_type": "code",
   "execution_count": 53,
   "metadata": {},
   "outputs": [
    {
     "name": "stdout",
     "output_type": "stream",
     "text": [
      "_________________________________________________________________\n",
      "Layer (type)                 Output Shape              Param #   \n",
      "=================================================================\n",
      "flatten_7 (Flatten)          (None, 25088)             0         \n",
      "_________________________________________________________________\n",
      "dense_18 (Dense)             (None, 100)               2508900   \n",
      "_________________________________________________________________\n",
      "dropout_11 (Dropout)         (None, 100)               0         \n",
      "_________________________________________________________________\n",
      "dense_19 (Dense)             (None, 50)                5050      \n",
      "_________________________________________________________________\n",
      "dropout_12 (Dropout)         (None, 50)                0         \n",
      "_________________________________________________________________\n",
      "dense_20 (Dense)             (None, 5)                 255       \n",
      "=================================================================\n",
      "Total params: 2,514,205\n",
      "Trainable params: 2,514,205\n",
      "Non-trainable params: 0\n",
      "_________________________________________________________________\n"
     ]
    }
   ],
   "source": [
    "model.summary()"
   ]
  },
  {
   "cell_type": "code",
   "execution_count": 54,
   "metadata": {},
   "outputs": [
    {
     "name": "stdout",
     "output_type": "stream",
     "text": [
      "172/172 [==============================] - 0s 391us/step\n"
     ]
    },
    {
     "data": {
      "text/plain": [
       "[0.3296557720317397, 0.8720930218696594]"
      ]
     },
     "execution_count": 54,
     "metadata": {},
     "output_type": "execute_result"
    }
   ],
   "source": [
    "model.evaluate(test_data, test_labels)"
   ]
  },
  {
   "cell_type": "code",
   "execution_count": 55,
   "metadata": {},
   "outputs": [
    {
     "name": "stdout",
     "output_type": "stream",
     "text": [
      "              precision    recall  f1-score   support\n",
      "\n",
      "           0       0.97      0.81      0.89        48\n",
      "           1       0.86      0.81      0.83        31\n",
      "           2       0.89      0.83      0.86        30\n",
      "           3       0.91      0.94      0.93        34\n",
      "           4       0.92      0.83      0.87        29\n",
      "\n",
      "   micro avg       0.92      0.84      0.88       172\n",
      "   macro avg       0.91      0.84      0.88       172\n",
      "weighted avg       0.92      0.84      0.88       172\n",
      " samples avg       0.84      0.84      0.84       172\n",
      "\n"
     ]
    },
    {
     "name": "stderr",
     "output_type": "stream",
     "text": [
      "/Users/jas10022/anaconda3/lib/python3.6/site-packages/sklearn/metrics/classification.py:1437: UndefinedMetricWarning: Precision and F-score are ill-defined and being set to 0.0 in samples with no predicted labels.\n",
      "  'precision', 'predicted', average, warn_for)\n"
     ]
    }
   ],
   "source": [
    "from sklearn import metrics\n",
    "from sklearn.metrics import confusion_matrix\n",
    "preds = np.round(model.predict(test_data),0)\n",
    "classification_metrics = metrics.classification_report(test_labels, preds)\n",
    "print(classification_metrics)"
   ]
  },
  {
   "cell_type": "code",
   "execution_count": 56,
   "metadata": {},
   "outputs": [
    {
     "data": {
      "text/plain": [
       "array([[42,  4,  0,  1,  1],\n",
       "       [ 4, 25,  1,  0,  1],\n",
       "       [ 4,  0, 25,  1,  0],\n",
       "       [ 1,  0,  1, 32,  0],\n",
       "       [ 3,  0,  1,  1, 24]])"
      ]
     },
     "execution_count": 56,
     "metadata": {},
     "output_type": "execute_result"
    }
   ],
   "source": [
    "test_labels_tentative = pd.DataFrame(test_labels).idxmax(axis=1)\n",
    "preds_tentative = pd.DataFrame(preds).idxmax(axis=1)\n",
    "confusion_matrix= confusion_matrix(test_labels_tentative, preds_tentative)\n",
    "confusion_matrix"
   ]
  },
  {
   "cell_type": "code",
   "execution_count": 57,
   "metadata": {},
   "outputs": [],
   "source": [
    "def plot_confusion_matrix(cm, classes,\n",
    "             normalize=False,\n",
    "             title='Confusion matrix',\n",
    "             cmap=plt.cm.Blues):\n",
    "    #Add Normalization Option\n",
    "    '''prints pretty confusion metric with normalization option '''\n",
    "    if normalize:\n",
    "        cm = cm.astype('float') / cm.sum(axis=1)[:, np.newaxis]\n",
    "        print(\"Normalized confusion matrix\")\n",
    "    else:\n",
    "        print('Confusion matrix, without normalization')\n",
    "    \n",
    "#     print(cm)\n",
    "    \n",
    "    plt.imshow(cm, interpolation='nearest', cmap=cmap)\n",
    "    plt.title(title)\n",
    "    plt.colorbar()\n",
    "    tick_marks = np.arange(len(classes))\n",
    "    plt.xticks(tick_marks, classes, rotation=45)\n",
    "    plt.yticks(tick_marks, classes)\n",
    "    \n",
    "    fmt = '.2f' if normalize else 'd'\n",
    "    thresh = cm.max() / 2.\n",
    "    for i, j in itertools.product(range(cm.shape[0]), range(cm.shape[1])):\n",
    "        plt.text(j, i, format(cm[i, j], fmt), horizontalalignment=\"center\", color=\"white\" if cm[i, j] > thresh else \"black\")\n",
    "    \n",
    "    plt.tight_layout()\n",
    "    plt.ylabel('True label')\n",
    "    plt.xlabel('Predicted label')"
   ]
  },
  {
   "cell_type": "code",
   "execution_count": 58,
   "metadata": {},
   "outputs": [
    {
     "name": "stdout",
     "output_type": "stream",
     "text": [
      "Normalized confusion matrix\n"
     ]
    },
    {
     "data": {
      "image/png": "[encoded data removed]",
      "text/plain": [
       "<Figure size 432x288 with 2 Axes>"
      ]
     },
     "metadata": {
      "needs_background": "light"
     },
     "output_type": "display_data"
    }
   ],
   "source": [
    "import itertools\n",
    "listItems = ['chair','couch','refrigerator','table','tv']\n",
    "plot_confusion_matrix(confusion_matrix, \n",
    "                      listItems,\n",
    "                     normalize=True)"
   ]
  },
  {
   "cell_type": "code",
   "execution_count": 59,
   "metadata": {},
   "outputs": [
    {
     "name": "stdout",
     "output_type": "stream",
     "text": [
      "WARNING:tensorflow:Large dropout rate: 0.6 (>0.5). In TensorFlow 2.x, dropout() uses dropout rate instead of keep_prob. Please ensure that this is intended.\n",
      "Train on 1074 samples, validate on 159 samples\n",
      "Epoch 1/20\n",
      "1074/1074 [==============================] - 2s 1ms/step - loss: 3.0338 - acc: 0.2663 - val_loss: 1.3210 - val_acc: 0.4654\n",
      "Epoch 2/20\n",
      "1074/1074 [==============================] - 1s 795us/step - loss: 1.5142 - acc: 0.3883 - val_loss: 1.2158 - val_acc: 0.4654\n",
      "Epoch 3/20\n",
      "1074/1074 [==============================] - 1s 794us/step - loss: 1.3332 - acc: 0.4581 - val_loss: 1.1088 - val_acc: 0.5723\n",
      "Epoch 4/20\n",
      "1074/1074 [==============================] - 1s 801us/step - loss: 1.1547 - acc: 0.5307 - val_loss: 1.0462 - val_acc: 0.5849\n",
      "Epoch 5/20\n",
      "1074/1074 [==============================] - 1s 794us/step - loss: 1.0257 - acc: 0.6108 - val_loss: 0.6265 - val_acc: 0.8050\n",
      "Epoch 6/20\n",
      "1074/1074 [==============================] - 1s 795us/step - loss: 0.8668 - acc: 0.6555 - val_loss: 0.6441 - val_acc: 0.7736\n",
      "Epoch 7/20\n",
      "1074/1074 [==============================] - 1s 805us/step - loss: 0.7753 - acc: 0.7067 - val_loss: 0.5680 - val_acc: 0.8113\n",
      "Epoch 8/20\n",
      "1074/1074 [==============================] - 1s 838us/step - loss: 0.6901 - acc: 0.7328 - val_loss: 0.4709 - val_acc: 0.8428\n",
      "Epoch 9/20\n",
      "1074/1074 [==============================] - 1s 852us/step - loss: 0.6851 - acc: 0.7467 - val_loss: 0.4302 - val_acc: 0.8679\n",
      "Epoch 10/20\n",
      "1074/1074 [==============================] - 1s 814us/step - loss: 0.6084 - acc: 0.7709 - val_loss: 0.4225 - val_acc: 0.8553\n",
      "Epoch 11/20\n",
      "1074/1074 [==============================] - 1s 790us/step - loss: 0.5358 - acc: 0.8045 - val_loss: 0.4340 - val_acc: 0.8616\n",
      "Epoch 12/20\n",
      "1074/1074 [==============================] - 1s 793us/step - loss: 0.4849 - acc: 0.8063 - val_loss: 0.3406 - val_acc: 0.8994\n",
      "Epoch 13/20\n",
      "1074/1074 [==============================] - 1s 776us/step - loss: 0.5066 - acc: 0.8119 - val_loss: 0.3138 - val_acc: 0.9182\n",
      "Epoch 14/20\n",
      "1074/1074 [==============================] - 1s 778us/step - loss: 0.4196 - acc: 0.8445 - val_loss: 0.3585 - val_acc: 0.8868\n",
      "Epoch 15/20\n",
      "1074/1074 [==============================] - 1s 820us/step - loss: 0.4545 - acc: 0.8520 - val_loss: 0.3083 - val_acc: 0.9182\n",
      "Epoch 16/20\n",
      "1074/1074 [==============================] - 1s 820us/step - loss: 0.3813 - acc: 0.8696 - val_loss: 0.3828 - val_acc: 0.8994\n",
      "Epoch 17/20\n",
      "1074/1074 [==============================] - 1s 782us/step - loss: 0.3686 - acc: 0.8520 - val_loss: 0.3261 - val_acc: 0.9057\n",
      "Epoch 18/20\n",
      "1074/1074 [==============================] - 1s 790us/step - loss: 0.3331 - acc: 0.8799 - val_loss: 0.4262 - val_acc: 0.8994\n",
      "Epoch 19/20\n",
      "1074/1074 [==============================] - 1s 807us/step - loss: 0.3733 - acc: 0.8715 - val_loss: 0.3471 - val_acc: 0.9308\n",
      "Epoch 20/20\n",
      "1074/1074 [==============================] - 1s 794us/step - loss: 0.3340 - acc: 0.8790 - val_loss: 0.3338 - val_acc: 0.9182\n",
      "159/159 [==============================] - 0s 214us/step\n",
      "[INFO] accuracy: 91.82%\n",
      "[INFO] Loss: 0.3338072238103399\n",
      "Time:  0:00:18.537290\n"
     ]
    }
   ],
   "source": [
    "start = datetime.datetime.now()\n",
    "model = Sequential()  \n",
    "model.add(Flatten(input_shape=train_data.shape[1:]))  \n",
    "model.add(Dense(200, activation='relu'))  \n",
    "model.add(Dropout(0.5))\n",
    "model.add(Dense(100, activation='relu')) \n",
    "model.add(Dropout(0.6))\n",
    "model.add(Dense(50, activation='relu'))  \n",
    "model.add(Dense(num_classes, activation='softmax'))  \n",
    "\n",
    "model.compile(optimizer='rmsprop',  \n",
    "          loss='categorical_crossentropy', metrics=['accuracy'])  \n",
    "\n",
    "history = model.fit(train_data, train_labels,  \n",
    "      epochs=20,  \n",
    "      batch_size=batch_size,  \n",
    "      validation_data=(validation_data, validation_labels))  \n",
    "\n",
    "model.save_weights(top_model_weights_path)  \n",
    "\n",
    "(eval_loss, eval_accuracy) = model.evaluate(  \n",
    " validation_data, validation_labels, batch_size=batch_size, verbose=1)\n",
    "\n",
    "print(\"[INFO] accuracy: {:.2f}%\".format(eval_accuracy * 100))  \n",
    "print(\"[INFO] Loss: {}\".format(eval_loss))  \n",
    "end= datetime.datetime.now()\n",
    "elapsed= end-start\n",
    "print ('Time: ', elapsed)"
   ]
  },
  {
   "cell_type": "code",
   "execution_count": 60,
   "metadata": {},
   "outputs": [
    {
     "data": {
      "text/plain": [
       "<matplotlib.legend.Legend at 0x1a3986d860>"
      ]
     },
     "execution_count": 60,
     "metadata": {},
     "output_type": "execute_result"
    },
    {
     "data": {
      "image/png": "[encoded data removed]",
      "text/plain": [
       "<Figure size 432x288 with 1 Axes>"
      ]
     },
     "metadata": {
      "needs_background": "light"
     },
     "output_type": "display_data"
    }
   ],
   "source": [
    "plt.figure(1)  \n",
    "\n",
    "# summarize history for accuracy  \n",
    "\n",
    "plt.subplot(211)  \n",
    "plt.plot(history.history['acc'])  \n",
    "plt.plot(history.history['val_acc'])  \n",
    "plt.title('model accuracy')  \n",
    "plt.ylabel('accuracy')  \n",
    "plt.xlabel('epoch')  \n",
    "plt.legend(['train', 'validation'], loc='upper left')"
   ]
  },
  {
   "cell_type": "code",
   "execution_count": 61,
   "metadata": {},
   "outputs": [
    {
     "data": {
      "image/png": "[encoded data removed]",
      "text/plain": [
       "<Figure size 432x288 with 1 Axes>"
      ]
     },
     "metadata": {
      "needs_background": "light"
     },
     "output_type": "display_data"
    }
   ],
   "source": [
    "\n",
    "# summarize history for loss  \n",
    "\n",
    "plt.subplot(212)  \n",
    "plt.plot(history.history['loss'])  \n",
    "plt.plot(history.history['val_loss'])  \n",
    "plt.title('model loss')  \n",
    "plt.ylabel('loss')  \n",
    "plt.xlabel('epoch')  \n",
    "plt.legend(['train', 'validation'], loc='upper left')  \n",
    "plt.show()"
   ]
  },
  {
   "cell_type": "code",
   "execution_count": 62,
   "metadata": {},
   "outputs": [],
   "source": [
    "def freeze_session(session, keep_var_names=None, output_names=None, clear_devices=True):\n",
    "    \"\"\"\n",
    "    Freezes the state of a session into a pruned computation graph.\n",
    "\n",
    "    Creates a new computation graph where variable nodes are replaced by\n",
    "    constants taking their current value in the session. The new graph will be\n",
    "    pruned so subgraphs that are not necessary to compute the requested\n",
    "    outputs are removed.\n",
    "    @param session The TensorFlow session to be frozen.\n",
    "    @param keep_var_names A list of variable names that should not be frozen,\n",
    "                          or None to freeze all the variables in the graph.\n",
    "    @param output_names Names of the relevant graph outputs.\n",
    "    @param clear_devices Remove the device directives from the graph for better portability.\n",
    "    @return The frozen graph definition.\n",
    "    \"\"\"\n",
    "    graph = session.graph\n",
    "    with graph.as_default():\n",
    "        freeze_var_names = list(set(v.op.name for v in tf.global_variables()).difference(keep_var_names or []))\n",
    "        output_names = output_names or []\n",
    "        output_names += [v.op.name for v in tf.global_variables()]\n",
    "        input_graph_def = graph.as_graph_def()\n",
    "        if clear_devices:\n",
    "            for node in input_graph_def.node:\n",
    "                node.device = \"\"\n",
    "        frozen_graph = tf.graph_util.convert_variables_to_constants(\n",
    "            session, input_graph_def, output_names, freeze_var_names)\n",
    "        return frozen_graph"
   ]
  },
  {
   "cell_type": "code",
   "execution_count": 63,
   "metadata": {},
   "outputs": [],
   "source": [
    "from keras import backend as K\n",
    "import tensorflow as tf\n",
    "\n",
    "# Create, compile and train model...\n",
    "\n",
    "#frozen_graph = freeze_session(K.get_session(),\n",
    "#                              output_names=[out.op.name for out in model.outputs])"
   ]
  },
  {
   "cell_type": "code",
   "execution_count": 64,
   "metadata": {},
   "outputs": [],
   "source": [
    "#tf.train.write_graph(frozen_graph, \".\", \"my_model.pb\", as_text=False)"
   ]
  },
  {
   "cell_type": "code",
   "execution_count": 65,
   "metadata": {},
   "outputs": [],
   "source": [
    "#import coremltools\n",
    "#coreml_model = coremltools.converters.keras.convert(model,\n",
    "#\tinput_names=\"image\",\n",
    "#\timage_input_names=\"image\",\n",
    "#\timage_scale=1/255.0,\n",
    "#\tclass_labels=listItems)"
   ]
  },
  {
   "cell_type": "code",
   "execution_count": 66,
   "metadata": {},
   "outputs": [
    {
     "name": "stdout",
     "output_type": "stream",
     "text": [
      "WARNING:tensorflow:Large dropout rate: 0.6 (>0.5). In TensorFlow 2.x, dropout() uses dropout rate instead of keep_prob. Please ensure that this is intended.\n"
     ]
    }
   ],
   "source": [
    "from keras.models import Model\n",
    "fullModel = Model(inputs=vgg16.input, outputs=model(vgg16.output))  "
   ]
  },
  {
   "cell_type": "code",
   "execution_count": 68,
   "metadata": {},
   "outputs": [
    {
     "name": "stdout",
     "output_type": "stream",
     "text": [
      "0 : input_2, <keras.engine.input_layer.InputLayer object at 0x1a45966358>\n",
      "1 : block1_conv1, <keras.layers.convolutional.Conv2D object at 0x1a4467d710>\n",
      "2 : block1_conv1__activation__, <keras.layers.core.Activation object at 0x1a397e0a58>\n",
      "3 : block1_conv2, <keras.layers.convolutional.Conv2D object at 0x1a3ece94e0>\n",
      "4 : block1_conv2__activation__, <keras.layers.core.Activation object at 0x1a397e0940>\n",
      "5 : block1_pool, <keras.layers.pooling.MaxPooling2D object at 0x1a446decc0>\n",
      "6 : block2_conv1, <keras.layers.convolutional.Conv2D object at 0x1a3ed02b38>\n",
      "7 : block2_conv1__activation__, <keras.layers.core.Activation object at 0x1a397e0a90>\n",
      "8 : block2_conv2, <keras.layers.convolutional.Conv2D object at 0x1a446cdda0>\n",
      "9 : block2_conv2__activation__, <keras.layers.core.Activation object at 0x1a397e02e8>\n",
      "10 : block2_pool, <keras.layers.pooling.MaxPooling2D object at 0x1a3eaeac50>\n",
      "11 : block3_conv1, <keras.layers.convolutional.Conv2D object at 0x1a45972a58>\n",
      "12 : block3_conv1__activation__, <keras.layers.core.Activation object at 0x1a397e0dd8>\n",
      "13 : block3_conv2, <keras.layers.convolutional.Conv2D object at 0x1a4509ec88>\n",
      "14 : block3_conv2__activation__, <keras.layers.core.Activation object at 0x1a397e0f28>\n",
      "15 : block3_conv3, <keras.layers.convolutional.Conv2D object at 0x1a459acf98>\n",
      "16 : block3_conv3__activation__, <keras.layers.core.Activation object at 0x1a397e04e0>\n",
      "17 : block3_pool, <keras.layers.pooling.MaxPooling2D object at 0x1a459bbc50>\n",
      "18 : block4_conv1, <keras.layers.convolutional.Conv2D object at 0x1a454bb7b8>\n",
      "19 : block4_conv1__activation__, <keras.layers.core.Activation object at 0x1a397e0e80>\n",
      "20 : block4_conv2, <keras.layers.convolutional.Conv2D object at 0x1a454d1160>\n",
      "21 : block4_conv2__activation__, <keras.layers.core.Activation object at 0x1a397e0518>\n",
      "22 : block4_conv3, <keras.layers.convolutional.Conv2D object at 0x1a451be588>\n",
      "23 : block4_conv3__activation__, <keras.layers.core.Activation object at 0x1a397e0550>\n",
      "24 : block4_pool, <keras.layers.pooling.MaxPooling2D object at 0x1a45356e48>\n",
      "25 : block5_conv1, <keras.layers.convolutional.Conv2D object at 0x1a45356e10>\n",
      "26 : block5_conv1__activation__, <keras.layers.core.Activation object at 0x1a397e0438>\n",
      "27 : block5_conv2, <keras.layers.convolutional.Conv2D object at 0x1a453484e0>\n",
      "28 : block5_conv2__activation__, <keras.layers.core.Activation object at 0x1a397e0208>\n",
      "29 : block5_conv3, <keras.layers.convolutional.Conv2D object at 0x1a45348e48>\n",
      "30 : block5_conv3__activation__, <keras.layers.core.Activation object at 0x1a397e0400>\n",
      "31 : block5_pool, <keras.layers.pooling.MaxPooling2D object at 0x1a452dbba8>\n",
      "32 : sequential_8_flatten_8, <keras.layers.core.Flatten object at 0x1a357448d0>\n",
      "33 : sequential_8_dense_21, <keras.layers.core.Dense object at 0x1a35744400>\n",
      "34 : sequential_8_dense_21__activation__, <keras.layers.core.Activation object at 0x1a397e0470>\n",
      "35 : sequential_8_dense_22, <keras.layers.core.Dense object at 0x1a35744f98>\n",
      "36 : sequential_8_dense_22__activation__, <keras.layers.core.Activation object at 0x1a397e0390>\n",
      "37 : sequential_8_dense_23, <keras.layers.core.Dense object at 0x1a3575ffd0>\n",
      "38 : sequential_8_dense_23__activation__, <keras.layers.core.Activation object at 0x1a397e02b0>\n",
      "39 : sequential_8_dense_24, <keras.layers.core.Dense object at 0x1a35744e80>\n",
      "40 : sequential_8_dense_24__activation__, <keras.layers.core.Activation object at 0x1a397e0240>\n"
     ]
    }
   ],
   "source": [
    "import coremltools\n",
    "coreml_model = coremltools.converters.keras.convert(fullModel,\n",
    "\tinput_names=\"image\",\n",
    "\timage_input_names=\"image\",\n",
    "\timage_scale=1/255.0,\n",
    "\tclass_labels=listItems)"
   ]
  },
  {
   "cell_type": "code",
   "execution_count": 69,
   "metadata": {},
   "outputs": [
    {
     "ename": "AttributeError",
     "evalue": "'Model' object has no attribute 'rsplit'",
     "output_type": "error",
     "traceback": [
      "\u001b[0;31m---------------------------------------------------------------------------\u001b[0m",
      "\u001b[0;31mAttributeError\u001b[0m                            Traceback (most recent call last)",
      "\u001b[0;32m<ipython-input-69-69b95f762f93>\u001b[0m in \u001b[0;36m<module>\u001b[0;34m\u001b[0m\n\u001b[0;32m----> 1\u001b[0;31m \u001b[0moutput\u001b[0m \u001b[0;34m=\u001b[0m \u001b[0mfullModel\u001b[0m\u001b[0;34m.\u001b[0m\u001b[0mrsplit\u001b[0m\u001b[0;34m(\u001b[0m\u001b[0;34m\".\"\u001b[0m\u001b[0;34m,\u001b[0m \u001b[0;36m1\u001b[0m\u001b[0;34m)\u001b[0m\u001b[0;34m[\u001b[0m\u001b[0;36m0\u001b[0m\u001b[0;34m]\u001b[0m \u001b[0;34m+\u001b[0m \u001b[0;34m\".mlmodel\"\u001b[0m\u001b[0;34m\u001b[0m\u001b[0;34m\u001b[0m\u001b[0m\n\u001b[0m",
      "\u001b[0;31mAttributeError\u001b[0m: 'Model' object has no attribute 'rsplit'"
     ]
    }
   ],
   "source": [
    "output = fullModel.rsplit(\".\", 1)[0] + \".mlmodel\""
   ]
  },
  {
   "cell_type": "code",
   "execution_count": 70,
   "metadata": {},
   "outputs": [],
   "source": [
    "coreml_model.save(\"my_model.mlmodel\")"
   ]
  },
  {
   "cell_type": "code",
   "execution_count": null,
   "metadata": {},
   "outputs": [],
   "source": []
  }
 ],
 "metadata": {
  "kernelspec": {
   "display_name": "Python 3",
   "language": "python",
   "name": "python3"
  },
  "language_info": {
   "codemirror_mode": {
    "name": "ipython",
    "version": 3
   },
   "file_extension": ".py",
   "mimetype": "text/x-python",
   "name": "python",
   "nbconvert_exporter": "python",
   "pygments_lexer": "ipython3",
   "version": "3.6.8"
  }
 },
 "nbformat": 4,
 "nbformat_minor": 2
}
